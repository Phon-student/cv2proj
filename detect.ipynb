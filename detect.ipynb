{
 "cells": [
  {
   "cell_type": "code",
   "execution_count": 9,
   "metadata": {},
   "outputs": [],
   "source": [
    "import numpy as np\n",
    "import matplotlib.pyplot as plt\n",
    "import cv2\n",
    "import math\n",
    "import glob\n",
    "from pathlib import Path"
   ]
  },
  {
   "cell_type": "markdown",
   "metadata": {},
   "source": [
    "## QC pills box detection \n",
    "\n",
    "    This notebook is a work for pill box dent detection using edge detection and hough transform. Combinded with finding curves on the edges lines in picture to check if the box is in good shape."
   ]
  },
  {
   "cell_type": "code",
   "execution_count": 11,
   "metadata": {},
   "outputs": [
    {
     "name": "stdout",
     "output_type": "stream",
     "text": [
      "100 images\n"
     ]
    }
   ],
   "source": [
    "path=Path(\"archive/damaged/side\")\n",
    "\n",
    "path=path.glob(\"*.png\")\n",
    "\n",
    "images=[]\n",
    "\n",
    "\n",
    "for imagepath in path:\n",
    "\n",
    "        img=cv2.imread(str(imagepath))\n",
    "        img=cv2.cvtColor(img,cv2.COLOR_BGR2GRAY)                         \n",
    "        images.append(img)\n",
    "print(len(images), \"images\")"
   ]
  },
  {
   "cell_type": "code",
   "execution_count": 12,
   "metadata": {},
   "outputs": [
    {
     "name": "stdout",
     "output_type": "stream",
     "text": [
      "Image name: 0996268331124_side.png\n"
     ]
    }
   ],
   "source": [
    "print(\"Image name:\" , imagepath.name)"
   ]
  },
  {
   "cell_type": "code",
   "execution_count": 13,
   "metadata": {},
   "outputs": [],
   "source": [
    "# # url = 'archive/intact/side/0121190978716_side.png'\n",
    "# url = 'archive/damaged/side/0121190978716_side.png'\n",
    "\n",
    "# img = cv2.imread(url)\n",
    "# img = cv2.cvtColor(img, cv2.COLOR_BGR2RGB)\n",
    "# plt.imshow(img)"
   ]
  },
  {
   "cell_type": "code",
   "execution_count": 14,
   "metadata": {},
   "outputs": [],
   "source": [
    "def edge_detection(image, sigma=0.33):\n",
    "    # Convert the image to grayscale\n",
    "    v = np.median(image)\n",
    "    lower = int(max(100, (1.0 - sigma) * v))\n",
    "    upper = int(min(130, (1.0 + sigma) * v))\n",
    "\n",
    "    # Apply edge detection\n",
    "    edges = cv2.Canny(image, lower, upper)\n",
    "    return edges\n",
    "\n",
    "\n",
    "\n"
   ]
  },
  {
   "cell_type": "code",
   "execution_count": null,
   "metadata": {},
   "outputs": [],
   "source": [
    "# edge_detection_img = edge_detection(images[0])\n",
    "# plt.imshow(edge_detection_img, cmap='gray')\n"
   ]
  },
  {
   "cell_type": "code",
   "execution_count": 15,
   "metadata": {},
   "outputs": [],
   "source": [
    "#find if there is a curve edges on the image\n",
    "def find_curved_edges(edges, min_angle=30, max_angle=50):\n",
    "    # Define the Hough transform parameters\n",
    "    rho = 1 # distance resolution in pixels of the Hough grid\n",
    "    theta = np.pi / 180 # angular resolution in radians of the Hough grid\n",
    "    threshold = 60 # minimum number of votes (intersections in Hough grid cell)\n",
    "    min_line_length = 50 # minimum number of pixels making up a line\n",
    "    max_line_gap = 5 # maximum gap in pixels between connectable line segments\n",
    "\n",
    "    # Run Hough on the edge-detected image\n",
    "    lines = cv2.HoughLinesP(edges, rho, theta, threshold, np.array([]),\n",
    "                            min_line_length, max_line_gap)\n",
    "    # Iterate over the output \"lines\" and draw them on the image\n",
    "    for line in lines:\n",
    "        for x1, y1, x2, y2 in line:\n",
    "            angle = math.degrees(math.atan2(y2 - y1, x2 - x1))\n",
    "            if min_angle <= abs(angle) <= max_angle:\n",
    "                return True\n",
    "    return False\n",
    "\n",
    "\n"
   ]
  },
  {
   "cell_type": "code",
   "execution_count": 16,
   "metadata": {},
   "outputs": [
    {
     "name": "stdout",
     "output_type": "stream",
     "text": [
      "92 founded damaged\n"
     ]
    }
   ],
   "source": [
    "#loop from a list images and find the curved edges by feeding in one at a time\n",
    "count = 0\n",
    "for image in images:\n",
    "    edges = edge_detection(image)\n",
    "    if find_curved_edges(edges):\n",
    "        count += 1\n",
    "        \n",
    "print(count, \"founded damaged\")"
   ]
  }
 ],
 "metadata": {
  "kernelspec": {
   "display_name": "Python 3",
   "language": "python",
   "name": "python3"
  },
  "language_info": {
   "codemirror_mode": {
    "name": "ipython",
    "version": 3
   },
   "file_extension": ".py",
   "mimetype": "text/x-python",
   "name": "python",
   "nbconvert_exporter": "python",
   "pygments_lexer": "ipython3",
   "version": "3.10.8"
  }
 },
 "nbformat": 4,
 "nbformat_minor": 2
}
